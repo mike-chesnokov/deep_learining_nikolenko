{
 "cells": [
  {
   "cell_type": "markdown",
   "metadata": {},
   "source": [
    "# Chapter 3.6. MNIST on TensorFlow\n",
    "\n",
    "Original code in Nikolenko book was made in **TensorFlow 1.x (TF1)**, but here I will convert examples to **TensorFlow 2.0 (TF2)**."
   ]
  },
  {
   "cell_type": "code",
   "execution_count": 1,
   "metadata": {
    "ExecuteTime": {
     "end_time": "2019-11-17T20:35:21.205827Z",
     "start_time": "2019-11-17T20:35:20.062146Z"
    }
   },
   "outputs": [],
   "source": [
    "import numpy as np\n",
    "import tensorflow as tf\n",
    "import matplotlib.pyplot as plt\n",
    "\n",
    "from models_classes import LogRegModel\n",
    "from losses import cross_entropy_loss\n",
    "from metrics import accuracy"
   ]
  },
  {
   "cell_type": "markdown",
   "metadata": {},
   "source": [
    "## 1. Load data and visualize some examples\n",
    "\n",
    "- MNIST have 70k images (1 channel) with size of 28x28 (784 if flatten). \n",
    "- Samples have already splitted into train (60k images) and test (10k images). \n",
    "- Target classes in categorical view"
   ]
  },
  {
   "cell_type": "code",
   "execution_count": 2,
   "metadata": {
    "ExecuteTime": {
     "end_time": "2019-11-17T20:35:22.024793Z",
     "start_time": "2019-11-17T20:35:21.772204Z"
    },
    "scrolled": true
   },
   "outputs": [
    {
     "name": "stdout",
     "output_type": "stream",
     "text": [
      "(60000, 28, 28) (60000,)\n",
      "(10000, 28, 28) (10000,)\n"
     ]
    }
   ],
   "source": [
    "mnist = tf.keras.datasets.mnist.load_data()\n",
    "(X_train, y_train), (X_test, y_test) = mnist\n",
    "X_train, X_test = X_train / 255.0, X_test / 255.0\n",
    "\n",
    "print(X_train.shape, y_train.shape)\n",
    "print(X_test.shape, y_test.shape)"
   ]
  },
  {
   "cell_type": "markdown",
   "metadata": {},
   "source": [
    "### Visualization:"
   ]
  },
  {
   "cell_type": "code",
   "execution_count": 3,
   "metadata": {
    "ExecuteTime": {
     "end_time": "2019-11-17T20:35:23.347831Z",
     "start_time": "2019-11-17T20:35:23.341753Z"
    }
   },
   "outputs": [],
   "source": [
    "def show_images(data,\n",
    "                data_labels,\n",
    "                random_sample=True,\n",
    "                seed=42,\n",
    "                sample_size=20,\n",
    "                num_cols=4,\n",
    "                image_ids=None):\n",
    "    \"\"\"\n",
    "    Show images from dataset.\n",
    "    \n",
    "    Parameters:\n",
    "        :param data: numpy array with mnist digits\n",
    "        :param data_labels: numpy array with mnist labels\n",
    "        :param random_sample: bool, show random pictures or not\n",
    "        :param sample_size: int, how many pictures to select randomly\n",
    "        :param image_ids: list, image ids if `random_sample` = False\n",
    "        :param seed: int, seed for random image taking\n",
    "    \"\"\"\n",
    "    if random_sample:\n",
    "        np.random.seed(seed)\n",
    "        image_ids = np.random.choice(list(range(len(data))), sample_size)\n",
    "    else:\n",
    "        if image_ids is None:\n",
    "            raise ValueError('Provide \"image_ids\" list')\n",
    "    \n",
    "    image_ids_num = len(image_ids)\n",
    "    num_rows = int(np.ceil(image_ids_num/num_cols))\n",
    "    \n",
    "    fig, ax = plt.subplots(figsize=(2 * num_cols, 2 * num_rows), ncols=num_cols, nrows=num_rows)\n",
    "    for ind, img_id in enumerate(image_ids):\n",
    "        img = data[img_id]\n",
    "        \n",
    "        col_ind = ind%num_cols\n",
    "        row_ind = int(np.floor(ind/num_cols))\n",
    "        \n",
    "        if image_ids_num > num_cols: # if row num more than 1\n",
    "            ax[row_ind, col_ind].set_title('Class=' + str(data_labels[img_id]))\n",
    "            ax[row_ind, col_ind].imshow(img)\n",
    "        else: # if only 1 row\n",
    "            ax[ind].set_title('Class=' + str(data_labels[img_id]))\n",
    "            ax[ind].imshow(img)\n",
    "            \n",
    "    plt.tight_layout()  \n",
    "    plt.show()"
   ]
  },
  {
   "cell_type": "code",
   "execution_count": 4,
   "metadata": {
    "ExecuteTime": {
     "end_time": "2019-11-17T20:35:24.858866Z",
     "start_time": "2019-11-17T20:35:23.835914Z"
    },
    "scrolled": false
   },
   "outputs": [
    {
     "data": {
      "image/png": "[encoded data removed]",
      "text/plain": [
       "<Figure size 720x432 with 15 Axes>"
      ]
     },
     "metadata": {
      "needs_background": "light"
     },
     "output_type": "display_data"
    }
   ],
   "source": [
    "show_images(X_train, y_train, random_sample=True, seed=42, sample_size=15, num_cols=5)"
   ]
  },
  {
   "cell_type": "markdown",
   "metadata": {},
   "source": [
    "## 2. Create and train logistic regression using TF2\n",
    "\n",
    "- Set constats\n",
    "- Define train process\n",
    "- Initialize weigts\n",
    "- Set model and optimier\n",
    "- Loop over epochs"
   ]
  },
  {
   "cell_type": "code",
   "execution_count": 23,
   "metadata": {
    "ExecuteTime": {
     "end_time": "2019-11-17T20:38:00.402353Z",
     "start_time": "2019-11-17T20:38:00.393429Z"
    }
   },
   "outputs": [],
   "source": [
    "# set constants\n",
    "batch_size = 128\n",
    "num_steps = 2000\n",
    "display_step = 100\n",
    "\n",
    "# define train proces\n",
    "def train(model, X, y, optimizer):\n",
    "    \"\"\"\n",
    "    One step of train process\n",
    "    \n",
    "    params:\n",
    "        model: model object ot train\n",
    "        X: data\n",
    "        y: target \n",
    "        optimizer: tf optimizer\n",
    "    return:\n",
    "        loss_val: loss value\n",
    "    \"\"\"\n",
    "    with tf.GradientTape() as t:\n",
    "        y_pred = tf.nn.softmax(model(X))\n",
    "        loss_val = cross_entropy_loss(y, y_pred)\n",
    "        \n",
    "    grads = t.gradient(loss_val, model.trainable_variables)\n",
    "    optimizer.apply_gradients(zip(grads, model.trainable_variables))\n",
    "    \n",
    "    acc = accuracy(y, y_pred)\n",
    "    \n",
    "    return loss_val, acc\n",
    "\n",
    "# Initialize weigts \n",
    "W = tf.Variable(tf.random.normal([784, 10], dtype='float32'), name='weights')\n",
    "b = tf.Variable(tf.zeros([10], dtype='float32'), name='biases')\n",
    "\n",
    "# Set up model and optimier\n",
    "model = LogRegModel(W, b)\n",
    "optimizer = tf.optimizers.Adam(learning_rate=1e-2)"
   ]
  },
  {
   "cell_type": "code",
   "execution_count": 24,
   "metadata": {
    "ExecuteTime": {
     "end_time": "2019-11-17T20:38:06.388625Z",
     "start_time": "2019-11-17T20:38:00.850216Z"
    },
    "scrolled": true
   },
   "outputs": [
    {
     "name": "stdout",
     "output_type": "stream",
     "text": [
      "Epoch 100: loss=-0.4451006054878235, accuracy=0.6484375\n",
      "Epoch 200: loss=-0.459831178188324, accuracy=0.65625\n",
      "Epoch 300: loss=-0.584585428237915, accuracy=0.859375\n",
      "Epoch 400: loss=-0.5484375953674316, accuracy=0.7890625\n",
      "Epoch 500: loss=-0.5284705758094788, accuracy=0.765625\n",
      "Epoch 600: loss=-0.5838673114776611, accuracy=0.8359375\n",
      "Epoch 700: loss=-0.5368525981903076, accuracy=0.78125\n",
      "Epoch 800: loss=-0.5733637809753418, accuracy=0.828125\n",
      "Epoch 900: loss=-0.5608506202697754, accuracy=0.8046875\n",
      "Epoch 1000: loss=-0.5629346370697021, accuracy=0.8046875\n",
      "Epoch 1100: loss=-0.5827523469924927, accuracy=0.84375\n",
      "Epoch 1200: loss=-0.5849268436431885, accuracy=0.84375\n",
      "Epoch 1300: loss=-0.5767043828964233, accuracy=0.8359375\n",
      "Epoch 1400: loss=-0.5823259949684143, accuracy=0.8359375\n",
      "Epoch 1500: loss=-0.5496864914894104, accuracy=0.796875\n",
      "Epoch 1600: loss=-0.5798617005348206, accuracy=0.8359375\n",
      "Epoch 1700: loss=-0.6165472269058228, accuracy=0.890625\n",
      "Epoch 1800: loss=-0.5603693723678589, accuracy=0.8046875\n",
      "Epoch 1900: loss=-0.57368004322052, accuracy=0.828125\n",
      "Epoch 2000: loss=-0.575596809387207, accuracy=0.828125\n"
     ]
    }
   ],
   "source": [
    "np.random.seed(42)\n",
    "\n",
    "# running optimization\n",
    "for i in range(num_steps):\n",
    "    \n",
    "    # select data batch\n",
    "    indices = np.random.choice(len(X_train), batch_size)\n",
    "    X_batch, y_batch = X_train[indices], y_train[indices]\n",
    "    \n",
    "    # Flatten data and make ohe over target\n",
    "    X_batch_flat = tf.cast(X_batch.reshape(batch_size, 784), tf.float32)\n",
    "    y_batch_ohe = tf.cast(tf.one_hot(y_batch, 10), tf.float32)\n",
    "    \n",
    "    # train model\n",
    "    loss_val, acc_val = train(model, X_batch_flat, y_batch_ohe, optimizer)\n",
    "    \n",
    "    # evaluate model\n",
    "    \n",
    "    \n",
    "    # output info\n",
    "    if (i+1) % display_step == 0:\n",
    "        print(f'Epoch {i+1}: loss={loss_val.numpy()}, accuracy={acc_val}')"
   ]
  },
  {
   "cell_type": "code",
   "execution_count": null,
   "metadata": {},
   "outputs": [],
   "source": []
  }
 ],
 "metadata": {
  "kernelspec": {
   "display_name": "Python 3",
   "language": "python",
   "name": "python3"
  },
  "varInspector": {
   "cols": {
    "lenName": 16,
    "lenType": 16,
    "lenVar": 40
   },
   "kernels_config": {
    "python": {
     "delete_cmd_postfix": "",
     "delete_cmd_prefix": "del ",
     "library": "var_list.py",
     "varRefreshCmd": "print(var_dic_list())"
    },
    "r": {
     "delete_cmd_postfix": ") ",
     "delete_cmd_prefix": "rm(",
     "library": "var_list.r",
     "varRefreshCmd": "cat(var_dic_list()) "
    }
   },
   "types_to_exclude": [
    "module",
    "function",
    "builtin_function_or_method",
    "instance",
    "_Feature"
   ],
   "window_display": false
  }
 },
 "nbformat": 4,
 "nbformat_minor": 2
}
